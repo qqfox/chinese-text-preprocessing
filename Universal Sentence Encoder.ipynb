{
 "cells": [
  {
   "cell_type": "code",
   "execution_count": 2,
   "metadata": {},
   "outputs": [],
   "source": [
    "from transformers import BertModel, BertTokenizer, XLNetModel, XLNetTokenizer\n",
    "# from nltk.corpus import stopwords\n",
    "# from nltk import PorterStemmer, WordNetLemmatizer\n",
    "import pandas as pd\n",
    "import numpy as np\n",
    "import pickle\n",
    "import re\n",
    "from sklearn.model_selection import train_test_split\n",
    "import stopwordsiso\n",
    "from stopwordsiso import stopwords\n",
    "# stopwords([\"zh\"])  # Chinese\n",
    "import jieba\n",
    "from sklearn.preprocessing import MultiLabelBinarizer\n",
    "import tensorflow_hub as hub\n",
    "import torch"
   ]
  },
  {
   "cell_type": "code",
   "execution_count": 2,
   "metadata": {},
   "outputs": [],
   "source": [
    "# clean text and seg\n",
    "stop = stopwords([\"zh\"])\n",
    "def preprocessingTextFull(text, stop=stop, sep = ' '):\n",
    "    text = text.lower() #text to lowercase\n",
    "    text = re.sub(r'&lt;', '', text) #remove '&lt;' tag\n",
    "    text = re.sub(r'<.*?>', '', text) #remove html\n",
    "    text = re.sub(r'[0-9]+', '', text) #remove number\n",
    "    text = \" \".join([word for word in text.split() if word not in stop]) #remove stopwords\n",
    "    text = re.sub(r'[^\\w\\s]', '', text) #remove punctiation\n",
    "#   text = re.sub(r'[^\\x00-\\x7f]', '', text) #remove non ASCII strings\n",
    "    for c in ['\\r', '\\n', '\\t'] :\n",
    "        text = re.sub(c, ' ', text) #replace newline and tab with tabs\\\n",
    "        text = re.sub('\\s+', ' ', text) #replace multiple spaces with one space\n",
    "#         text = ' '.join([lemmatizer.lemmatize(word) for word in text.split()])\n",
    "    text_cut = sep.join(jieba.cut(text, cut_all=False))\n",
    "    \n",
    "    return text_cut"
   ]
  },
  {
   "cell_type": "markdown",
   "metadata": {},
   "source": [
    "## 3 Universal Sentence Encoder"
   ]
  },
  {
   "cell_type": "code",
   "execution_count": 3,
   "metadata": {},
   "outputs": [
    {
     "data": {
      "text/html": [
       "<div>\n",
       "<style scoped>\n",
       "    .dataframe tbody tr th:only-of-type {\n",
       "        vertical-align: middle;\n",
       "    }\n",
       "\n",
       "    .dataframe tbody tr th {\n",
       "        vertical-align: top;\n",
       "    }\n",
       "\n",
       "    .dataframe thead th {\n",
       "        text-align: right;\n",
       "    }\n",
       "</style>\n",
       "<table border=\"1\" class=\"dataframe\">\n",
       "  <thead>\n",
       "    <tr style=\"text-align: right;\">\n",
       "      <th></th>\n",
       "      <th>label</th>\n",
       "      <th>detail_label</th>\n",
       "      <th>text</th>\n",
       "    </tr>\n",
       "  </thead>\n",
       "  <tbody>\n",
       "    <tr>\n",
       "      <th>0</th>\n",
       "      <td>行销活动问题</td>\n",
       "      <td>未收到活动回馈金问题</td>\n",
       "      <td>您好,我于2020/7/6 下午5:38左右绑定兆丰银行并开启自动储值功能,但仍未收到88元...</td>\n",
       "    </tr>\n",
       "    <tr>\n",
       "      <th>1</th>\n",
       "      <td>行销活动问题</td>\n",
       "      <td>未收到活动点数问题</td>\n",
       "      <td>刷屈臣氏480元，却无点数回馈?</td>\n",
       "    </tr>\n",
       "    <tr>\n",
       "      <th>2</th>\n",
       "      <td>行销活动问题</td>\n",
       "      <td>未收到活动点数问题</td>\n",
       "      <td>已经确认过，你们只有给4月跟6月喔\\n\\n5月的点数是漏发的，5月帐单缴费13075元\\n\\...</td>\n",
       "    </tr>\n",
       "  </tbody>\n",
       "</table>\n",
       "</div>"
      ],
      "text/plain": [
       "    label detail_label                                               text\n",
       "0  行销活动问题   未收到活动回馈金问题  您好,我于2020/7/6 下午5:38左右绑定兆丰银行并开启自动储值功能,但仍未收到88元...\n",
       "1  行销活动问题    未收到活动点数问题                                   刷屈臣氏480元，却无点数回馈?\n",
       "2  行销活动问题    未收到活动点数问题  已经确认过，你们只有给4月跟6月喔\\n\\n5月的点数是漏发的，5月帐单缴费13075元\\n\\..."
      ]
     },
     "execution_count": 3,
     "metadata": {},
     "output_type": "execute_result"
    }
   ],
   "source": [
    "df = pd.read_csv('training_sim.csv')\n",
    "df = df.rename(columns={'sim_label': 'label','sim_detail_label': 'detail_label','sim_text': 'text' }, index={'ONE': 'Row_1'})\n",
    "df = df.dropna()\n",
    "df.head(3)"
   ]
  },
  {
   "cell_type": "code",
   "execution_count": 4,
   "metadata": {},
   "outputs": [
    {
     "name": "stderr",
     "output_type": "stream",
     "text": [
      "Building prefix dict from the default dictionary ...\n",
      "Loading model from cache C:\\Users\\dupho\\AppData\\Local\\Temp\\jieba.cache\n",
      "Loading model cost 0.621 seconds.\n",
      "Prefix dict has been built successfully.\n"
     ]
    },
    {
     "data": {
      "text/html": [
       "<div>\n",
       "<style scoped>\n",
       "    .dataframe tbody tr th:only-of-type {\n",
       "        vertical-align: middle;\n",
       "    }\n",
       "\n",
       "    .dataframe tbody tr th {\n",
       "        vertical-align: top;\n",
       "    }\n",
       "\n",
       "    .dataframe thead th {\n",
       "        text-align: right;\n",
       "    }\n",
       "</style>\n",
       "<table border=\"1\" class=\"dataframe\">\n",
       "  <thead>\n",
       "    <tr style=\"text-align: right;\">\n",
       "      <th></th>\n",
       "      <th>label</th>\n",
       "      <th>detail_label</th>\n",
       "      <th>text</th>\n",
       "    </tr>\n",
       "  </thead>\n",
       "  <tbody>\n",
       "    <tr>\n",
       "      <th>0</th>\n",
       "      <td>行销 活动 问题</td>\n",
       "      <td>未 收到 活动 回馈 金 问题</td>\n",
       "      <td>您好 我于   下午 左右 绑定 兆丰 银行 并 开启 自动 储值 功能 但 仍 未 收到 ...</td>\n",
       "    </tr>\n",
       "    <tr>\n",
       "      <th>1</th>\n",
       "      <td>行销 活动 问题</td>\n",
       "      <td>未 收到 活动 点数 问题</td>\n",
       "      <td>刷 屈臣氏 元 却 无 点数 回馈</td>\n",
       "    </tr>\n",
       "    <tr>\n",
       "      <th>2</th>\n",
       "      <td>行销 活动 问题</td>\n",
       "      <td>未 收到 活动 点数 问题</td>\n",
       "      <td>已经 确认 过 你们 只有 给 月 跟 月 喔   月 的 点数 是 漏发 的 月 帐单 缴...</td>\n",
       "    </tr>\n",
       "  </tbody>\n",
       "</table>\n",
       "</div>"
      ],
      "text/plain": [
       "      label     detail_label  \\\n",
       "0  行销 活动 问题  未 收到 活动 回馈 金 问题   \n",
       "1  行销 活动 问题    未 收到 活动 点数 问题   \n",
       "2  行销 活动 问题    未 收到 活动 点数 问题   \n",
       "\n",
       "                                                text  \n",
       "0  您好 我于   下午 左右 绑定 兆丰 银行 并 开启 自动 储值 功能 但 仍 未 收到 ...  \n",
       "1                                  刷 屈臣氏 元 却 无 点数 回馈  \n",
       "2  已经 确认 过 你们 只有 给 月 跟 月 喔   月 的 点数 是 漏发 的 月 帐单 缴...  "
      ]
     },
     "execution_count": 4,
     "metadata": {},
     "output_type": "execute_result"
    }
   ],
   "source": [
    "df['text'] = df['text'].apply(preprocessingTextFull)\n",
    "df['label'] = df['label'].apply(preprocessingTextFull)\n",
    "df['detail_label'] = df['detail_label'].apply(preprocessingTextFull)\n",
    "df.head(3)"
   ]
  },
  {
   "cell_type": "code",
   "execution_count": 5,
   "metadata": {},
   "outputs": [
    {
     "name": "stderr",
     "output_type": "stream",
     "text": [
      "INFO:absl:Using C:\\Users\\dupho\\AppData\\Local\\Temp\\tfhub_modules to cache modules.\n",
      "INFO:absl:Downloading TF-Hub Module 'https://tfhub.dev/google/nnlm-zh-dim128/2'.\n",
      "INFO:absl:Downloading https://tfhub.dev/google/nnlm-zh-dim128/2: 20.00MB\n",
      "INFO:absl:Downloading https://tfhub.dev/google/nnlm-zh-dim128/2: 40.00MB\n",
      "INFO:absl:Downloading https://tfhub.dev/google/nnlm-zh-dim128/2: 60.00MB\n",
      "INFO:absl:Downloading https://tfhub.dev/google/nnlm-zh-dim128/2: 80.00MB\n",
      "INFO:absl:Downloading https://tfhub.dev/google/nnlm-zh-dim128/2: 100.00MB\n",
      "INFO:absl:Downloading https://tfhub.dev/google/nnlm-zh-dim128/2: 120.00MB\n",
      "INFO:absl:Downloading https://tfhub.dev/google/nnlm-zh-dim128/2: 140.00MB\n",
      "INFO:absl:Downloading https://tfhub.dev/google/nnlm-zh-dim128/2: 160.00MB\n",
      "INFO:absl:Downloading https://tfhub.dev/google/nnlm-zh-dim128/2: 180.00MB\n",
      "INFO:absl:Downloading https://tfhub.dev/google/nnlm-zh-dim128/2: 200.00MB\n",
      "INFO:absl:Downloading https://tfhub.dev/google/nnlm-zh-dim128/2: 220.00MB\n",
      "INFO:absl:Downloading https://tfhub.dev/google/nnlm-zh-dim128/2: 240.00MB\n",
      "INFO:absl:Downloading https://tfhub.dev/google/nnlm-zh-dim128/2: 260.00MB\n",
      "INFO:absl:Downloading https://tfhub.dev/google/nnlm-zh-dim128/2: 280.00MB\n",
      "INFO:absl:Downloading https://tfhub.dev/google/nnlm-zh-dim128/2: 300.00MB\n",
      "INFO:absl:Downloading https://tfhub.dev/google/nnlm-zh-dim128/2: 320.00MB\n",
      "INFO:absl:Downloading https://tfhub.dev/google/nnlm-zh-dim128/2: 340.00MB\n",
      "INFO:absl:Downloading https://tfhub.dev/google/nnlm-zh-dim128/2: 360.00MB\n",
      "INFO:absl:Downloading https://tfhub.dev/google/nnlm-zh-dim128/2: 380.00MB\n",
      "INFO:absl:Downloading https://tfhub.dev/google/nnlm-zh-dim128/2: 400.00MB\n",
      "INFO:absl:Downloading https://tfhub.dev/google/nnlm-zh-dim128/2: 420.00MB\n",
      "INFO:absl:Downloading https://tfhub.dev/google/nnlm-zh-dim128/2: 440.00MB\n",
      "INFO:absl:Downloading https://tfhub.dev/google/nnlm-zh-dim128/2: 460.00MB\n",
      "INFO:absl:Downloading https://tfhub.dev/google/nnlm-zh-dim128/2: 482.93MB\n",
      "INFO:absl:Downloaded https://tfhub.dev/google/nnlm-zh-dim128/2, Total size: 482.95MB\n",
      "INFO:absl:Downloaded TF-Hub Module 'https://tfhub.dev/google/nnlm-zh-dim128/2'.\n"
     ]
    }
   ],
   "source": [
    "# Generating Vectors using the Universal Sentence Encoder \n",
    "embed = hub.load(\"https://tfhub.dev/google/nnlm-zh-dim128/2\")"
   ]
  },
  {
   "cell_type": "code",
   "execution_count": 6,
   "metadata": {},
   "outputs": [
    {
     "data": {
      "text/html": [
       "<div>\n",
       "<style scoped>\n",
       "    .dataframe tbody tr th:only-of-type {\n",
       "        vertical-align: middle;\n",
       "    }\n",
       "\n",
       "    .dataframe tbody tr th {\n",
       "        vertical-align: top;\n",
       "    }\n",
       "\n",
       "    .dataframe thead th {\n",
       "        text-align: right;\n",
       "    }\n",
       "</style>\n",
       "<table border=\"1\" class=\"dataframe\">\n",
       "  <thead>\n",
       "    <tr style=\"text-align: right;\">\n",
       "      <th></th>\n",
       "      <th>label</th>\n",
       "      <th>detail_label</th>\n",
       "      <th>text</th>\n",
       "      <th>text_vec</th>\n",
       "      <th>label_vec</th>\n",
       "    </tr>\n",
       "  </thead>\n",
       "  <tbody>\n",
       "    <tr>\n",
       "      <th>0</th>\n",
       "      <td>行销 活动 问题</td>\n",
       "      <td>未 收到 活动 回馈 金 问题</td>\n",
       "      <td>您好 我于   下午 左右 绑定 兆丰 银行 并 开启 自动 储值 功能 但 仍 未 收到 ...</td>\n",
       "      <td>[-0.6959822773933411, -0.12320687621831894, -0...</td>\n",
       "      <td>[-0.19086284935474396, -0.0249605905264616, -0...</td>\n",
       "    </tr>\n",
       "    <tr>\n",
       "      <th>1</th>\n",
       "      <td>行销 活动 问题</td>\n",
       "      <td>未 收到 活动 点数 问题</td>\n",
       "      <td>刷 屈臣氏 元 却 无 点数 回馈</td>\n",
       "      <td>[-0.13868018984794617, -0.048432230949401855, ...</td>\n",
       "      <td>[-0.19086284935474396, -0.0249605905264616, -0...</td>\n",
       "    </tr>\n",
       "  </tbody>\n",
       "</table>\n",
       "</div>"
      ],
      "text/plain": [
       "      label     detail_label  \\\n",
       "0  行销 活动 问题  未 收到 活动 回馈 金 问题   \n",
       "1  行销 活动 问题    未 收到 活动 点数 问题   \n",
       "\n",
       "                                                text  \\\n",
       "0  您好 我于   下午 左右 绑定 兆丰 银行 并 开启 自动 储值 功能 但 仍 未 收到 ...   \n",
       "1                                  刷 屈臣氏 元 却 无 点数 回馈   \n",
       "\n",
       "                                            text_vec  \\\n",
       "0  [-0.6959822773933411, -0.12320687621831894, -0...   \n",
       "1  [-0.13868018984794617, -0.048432230949401855, ...   \n",
       "\n",
       "                                           label_vec  \n",
       "0  [-0.19086284935474396, -0.0249605905264616, -0...  \n",
       "1  [-0.19086284935474396, -0.0249605905264616, -0...  "
      ]
     },
     "execution_count": 6,
     "metadata": {},
     "output_type": "execute_result"
    }
   ],
   "source": [
    "#generate embeddings\n",
    "textEmbeddings = embed(df['text'])#create list from np arrays\n",
    "text_vec = np.array(textEmbeddings).tolist()#add lists as dataframe column\n",
    "df['text_vec'] = text_vec #check dataframe df['use'] = [v for v in use]\n",
    "\n",
    "labelEmbeddings = embed(df['label'])#create list from np arrays\n",
    "label_vec = np.array(labelEmbeddings).tolist()#add lists as dataframe column\n",
    "df['label_vec'] = label_vec #check dataframe df['use'] = [v for v in use]\n",
    "\n",
    "df.head(2)\n"
   ]
  },
  {
   "cell_type": "code",
   "execution_count": 7,
   "metadata": {},
   "outputs": [],
   "source": [
    "df[['text_vec','label_vec']].to_csv('train_vec.csv')\n",
    "# =============================================================================================================================================================================================================="
   ]
  },
  {
   "cell_type": "code",
   "execution_count": null,
   "metadata": {},
   "outputs": [],
   "source": []
  }
 ],
 "metadata": {
  "kernelspec": {
   "display_name": "Python 3",
   "language": "python",
   "name": "python3"
  },
  "language_info": {
   "codemirror_mode": {
    "name": "ipython",
    "version": 3
   },
   "file_extension": ".py",
   "mimetype": "text/x-python",
   "name": "python",
   "nbconvert_exporter": "python",
   "pygments_lexer": "ipython3",
   "version": "3.8.11"
  }
 },
 "nbformat": 4,
 "nbformat_minor": 4
}
